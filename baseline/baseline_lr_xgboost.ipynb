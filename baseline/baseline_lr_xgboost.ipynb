{
 "cells": [
  {
   "cell_type": "code",
   "execution_count": 11,
   "metadata": {},
   "outputs": [],
   "source": [
    "import pandas as pd\n",
    "import numpy as np\n",
    "from sklearn.model_selection import cross_val_score, train_test_split\n",
    "from sklearn.preprocessing import StandardScaler\n",
    "from sklearn.linear_model import LinearRegression, RidgeCV, LassoCV, ElasticNetCV\n",
    "from sklearn.metrics import mean_squared_error, make_scorer\n",
    "import matplotlib.pyplot as plt"
   ]
  },
  {
   "cell_type": "code",
   "execution_count": 2,
   "metadata": {},
   "outputs": [],
   "source": [
    "train = pd.read_csv('../data/ameshousing/train.csv')"
   ]
  },
  {
   "cell_type": "markdown",
   "metadata": {},
   "source": [
    "**Load Data**"
   ]
  },
  {
   "cell_type": "code",
   "execution_count": 3,
   "metadata": {},
   "outputs": [
    {
     "name": "stdout",
     "output_type": "stream",
     "text": [
      "train: (1460, 81)\n"
     ]
    }
   ],
   "source": [
    "print('train: ' + str(train.shape))"
   ]
  },
  {
   "cell_type": "markdown",
   "metadata": {},
   "source": [
    "Take log on sales price"
   ]
  },
  {
   "cell_type": "code",
   "execution_count": 5,
   "metadata": {},
   "outputs": [],
   "source": [
    "train.SalePrice = np.log(train.SalePrice + 1)"
   ]
  },
  {
   "cell_type": "markdown",
   "metadata": {},
   "source": [
    "**Find Most Important Features**"
   ]
  },
  {
   "cell_type": "code",
   "execution_count": 6,
   "metadata": {},
   "outputs": [
    {
     "name": "stdout",
     "output_type": "stream",
     "text": [
      "SalePrice        1.000000\n",
      "OverallQual      0.817185\n",
      "GrLivArea        0.700927\n",
      "GarageCars       0.680625\n",
      "GarageArea       0.650888\n",
      "TotalBsmtSF      0.612134\n",
      "1stFlrSF         0.596981\n",
      "FullBath         0.594771\n",
      "YearBuilt        0.586570\n",
      "YearRemodAdd     0.565608\n",
      "GarageYrBlt      0.541073\n",
      "TotRmsAbvGrd     0.534422\n",
      "Fireplaces       0.489450\n",
      "MasVnrArea       0.430809\n",
      "BsmtFinSF1       0.372023\n",
      "LotFrontage      0.355879\n",
      "WoodDeckSF       0.334135\n",
      "OpenPorchSF      0.321053\n",
      "2ndFlrSF         0.319300\n",
      "HalfBath         0.313982\n",
      "LotArea          0.257320\n",
      "BsmtFullBath     0.236224\n",
      "BsmtUnfSF        0.221985\n",
      "BedroomAbvGr     0.209043\n",
      "ScreenPorch      0.121208\n",
      "PoolArea         0.069798\n",
      "MoSold           0.057330\n",
      "3SsnPorch        0.054900\n",
      "BsmtFinSF2       0.004832\n",
      "BsmtHalfBath    -0.005149\n",
      "Id              -0.017942\n",
      "MiscVal         -0.020021\n",
      "OverallCond     -0.036868\n",
      "YrSold          -0.037263\n",
      "LowQualFinSF    -0.037963\n",
      "MSSubClass      -0.073959\n",
      "KitchenAbvGr    -0.147548\n",
      "EnclosedPorch   -0.149050\n",
      "Name: SalePrice, dtype: float64\n"
     ]
    }
   ],
   "source": [
    "corr = train.corr()\n",
    "corr.sort_values(['SalePrice'], ascending=False, inplace=True)\n",
    "print(corr.SalePrice)"
   ]
  },
  {
   "cell_type": "markdown",
   "metadata": {},
   "source": [
    "**Build Features**"
   ]
  },
  {
   "cell_type": "code",
   "execution_count": 7,
   "metadata": {},
   "outputs": [
    {
     "name": "stdout",
     "output_type": "stream",
     "text": [
      "total_features: 81\n",
      "numerical_features: 37\n",
      "categorical_features: 43\n"
     ]
    }
   ],
   "source": [
    "numerical_features = train.select_dtypes(exclude = [object]).columns\n",
    "numerical_features = numerical_features.drop('SalePrice')\n",
    "categorical_features = train.select_dtypes(include = ['object']).columns\n",
    "print('total_features: %d' % train.shape[1])\n",
    "print('numerical_features: %d' % len(numerical_features))\n",
    "print('categorical_features: %d' % len(categorical_features))\n",
    "train_num = train[numerical_features]"
   ]
  },
  {
   "cell_type": "markdown",
   "metadata": {},
   "source": [
    "handle remaining missing values for numerical features by using median as replacement"
   ]
  },
  {
   "cell_type": "code",
   "execution_count": 8,
   "metadata": {},
   "outputs": [
    {
     "name": "stdout",
     "output_type": "stream",
     "text": [
      "total_null_values: 348\n",
      "total_null_values: 0\n"
     ]
    }
   ],
   "source": [
    "print('total_null_values: %d' % train_num.isnull().values.sum())\n",
    "train_num = train_num.fillna(train_num.median())\n",
    "print('total_null_values: %d' % train_num.isnull().values.sum())"
   ]
  },
  {
   "cell_type": "code",
   "execution_count": 9,
   "metadata": {},
   "outputs": [
    {
     "name": "stdout",
     "output_type": "stream",
     "text": [
      "temp set dimension: (1460, 37)\n"
     ]
    }
   ],
   "source": [
    "temp_set = train_num\n",
    "print('temp set dimension: ' + str(temp_set.shape))"
   ]
  },
  {
   "cell_type": "markdown",
   "metadata": {},
   "source": [
    "**Build Train and Dev Set**"
   ]
  },
  {
   "cell_type": "code",
   "execution_count": 12,
   "metadata": {},
   "outputs": [
    {
     "name": "stdout",
     "output_type": "stream",
     "text": [
      "train set dimension: (1022, 37)\n",
      "dev set dimension: (438, 37)\n",
      "train set label: (1022,)\n",
      "dev set label: (438,)\n"
     ]
    }
   ],
   "source": [
    "train_set, dev_set, train_set_label, dev_set_label = train_test_split(temp_set, train.SalePrice, test_size=0.3, random_state=0)\n",
    "print(\"train set dimension: \" + str(train_set.shape))\n",
    "print(\"dev set dimension: \" + str(dev_set.shape))\n",
    "print(\"train set label: \" + str(train_set_label.shape))\n",
    "print(\"dev set label: \" + str(dev_set_label.shape))"
   ]
  },
  {
   "cell_type": "markdown",
   "metadata": {},
   "source": [
    "**Cost Function**"
   ]
  },
  {
   "cell_type": "code",
   "execution_count": 15,
   "metadata": {},
   "outputs": [],
   "source": [
    "scorer = make_scorer(mean_squared_error, greater_is_better = False)\n",
    "\n",
    "def rmse_cv_train(model):\n",
    "    rmse= np.sqrt(-cross_val_score(model, train_set, train_set_label, scoring = scorer, cv = 10))\n",
    "    return(rmse)\n",
    "\n",
    "def rmse_cv_dev(model):\n",
    "    rmse= np.sqrt(-cross_val_score(model, dev_set, dev_set_label, scoring = scorer, cv = 10))\n",
    "    return(rmse)"
   ]
  },
  {
   "cell_type": "markdown",
   "metadata": {},
   "source": [
    "**Linear Regression**"
   ]
  },
  {
   "cell_type": "code",
   "execution_count": 16,
   "metadata": {},
   "outputs": [
    {
     "name": "stdout",
     "output_type": "stream",
     "text": [
      "RMSE at Training Set: 0.142\n",
      "RMSE at Dev Set: 0.184\n"
     ]
    }
   ],
   "source": [
    "lr = LinearRegression()\n",
    "lr.fit(train_set, train_set_label)\n",
    "\n",
    "print('RMSE at Training Set: %.3f' % rmse_cv_train(lr).mean())\n",
    "print('RMSE at Dev Set: %.3f' % rmse_cv_dev(lr).mean())"
   ]
  },
  {
   "cell_type": "markdown",
   "metadata": {},
   "source": [
    "**Plot Predictions**"
   ]
  },
  {
   "cell_type": "code",
   "execution_count": 35,
   "metadata": {},
   "outputs": [],
   "source": [
    "train_set_pred = lr.predict(train_set)\n",
    "dev_set_pred = lr.predict(dev_set)"
   ]
  },
  {
   "cell_type": "code",
   "execution_count": 40,
   "metadata": {},
   "outputs": [
    {
     "data": {
      "image/png": "[encoded data removed]",
      "text/plain": [
       "<Figure size 504x360 with 1 Axes>"
      ]
     },
     "metadata": {},
     "output_type": "display_data"
    }
   ],
   "source": [
    "plt.figure(1, figsize=(7, 5))\n",
    "plt.scatter(train_set_pred, train_set_label, c = \"blue\", marker = \"s\", label = \"training_set\")\n",
    "plt.scatter(dev_set_pred, dev_set_label, c = \"lightblue\", marker = \"s\", label = \"dev_set\")\n",
    "plt.title(\"Linear Regression\")\n",
    "plt.xlabel(\"Predicted Values\")\n",
    "plt.ylabel(\"Real Values\")\n",
    "plt.legend(loc = \"upper left\")\n",
    "plt.plot([10.5, 13.5], [10.5, 13.5], c = \"red\")\n",
    "plt.show()"
   ]
  },
  {
   "cell_type": "markdown",
   "metadata": {},
   "source": [
    "**XGBoost**"
   ]
  },
  {
   "cell_type": "code",
   "execution_count": 26,
   "metadata": {},
   "outputs": [],
   "source": [
    "from xgboost import XGBRegressor"
   ]
  },
  {
   "cell_type": "code",
   "execution_count": 27,
   "metadata": {},
   "outputs": [],
   "source": [
    "xgb = XGBRegressor()"
   ]
  },
  {
   "cell_type": "code",
   "execution_count": 28,
   "metadata": {},
   "outputs": [
    {
     "data": {
      "text/plain": [
       "XGBRegressor(base_score=0.5, booster='gbtree', colsample_bylevel=1,\n",
       "       colsample_bytree=1, gamma=0, learning_rate=0.1, max_delta_step=0,\n",
       "       max_depth=3, min_child_weight=1, missing=None, n_estimators=100,\n",
       "       n_jobs=1, nthread=None, objective='reg:linear', random_state=0,\n",
       "       reg_alpha=0, reg_lambda=1, scale_pos_weight=1, seed=None,\n",
       "       silent=True, subsample=1)"
      ]
     },
     "execution_count": 28,
     "metadata": {},
     "output_type": "execute_result"
    }
   ],
   "source": [
    "xgb.fit(train_set, train_set_label, verbose=True)"
   ]
  },
  {
   "cell_type": "code",
   "execution_count": 29,
   "metadata": {},
   "outputs": [
    {
     "name": "stdout",
     "output_type": "stream",
     "text": [
      "RMSE at Training Set: 0.136\n",
      "RMSE at Dev Set: 0.148\n"
     ]
    }
   ],
   "source": [
    "print('RMSE at Training Set: %.3f' % rmse_cv_train(xgb).mean())\n",
    "print('RMSE at Dev Set: %.3f' % rmse_cv_dev(xgb).mean())"
   ]
  },
  {
   "cell_type": "markdown",
   "metadata": {},
   "source": [
    "**Plot Predictions**"
   ]
  },
  {
   "cell_type": "code",
   "execution_count": 30,
   "metadata": {},
   "outputs": [],
   "source": [
    "train_set_pred = xgb.predict(train_set)\n",
    "dev_set_pred = xgb.predict(dev_set)"
   ]
  },
  {
   "cell_type": "code",
   "execution_count": 32,
   "metadata": {},
   "outputs": [
    {
     "data": {
      "image/png": "[encoded data removed]",
      "text/plain": [
       "<Figure size 396x360 with 1 Axes>"
      ]
     },
     "metadata": {},
     "output_type": "display_data"
    }
   ],
   "source": [
    "plt.figure(1, figsize=(5.5, 5))\n",
    "plt.scatter(train_set_pred, train_set_label, c = \"blue\", marker = \"s\", label = \"training_set\")\n",
    "plt.scatter(dev_set_pred, dev_set_label, c = \"lightblue\", marker = \"s\", label = \"dev_set\")\n",
    "plt.title(\"XGBoost\")\n",
    "plt.xlabel(\"Predicted Values\")\n",
    "plt.ylabel(\"Real Values\")\n",
    "plt.legend(loc = \"upper left\")\n",
    "plt.plot([10.5, 13.5], [10.5, 13.5], c = \"red\")\n",
    "plt.show()"
   ]
  }
 ],
 "metadata": {
  "kernelspec": {
   "display_name": "Python 3",
   "language": "python",
   "name": "python3"
  },
  "language_info": {
   "codemirror_mode": {
    "name": "ipython",
    "version": 3
   },
   "file_extension": ".py",
   "mimetype": "text/x-python",
   "name": "python",
   "nbconvert_exporter": "python",
   "pygments_lexer": "ipython3",
   "version": "3.6.5"
  }
 },
 "nbformat": 4,
 "nbformat_minor": 2
}
