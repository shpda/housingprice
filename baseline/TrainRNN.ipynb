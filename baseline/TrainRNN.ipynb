{
 "cells": [
  {
   "cell_type": "code",
   "execution_count": 1,
   "metadata": {},
   "outputs": [
    {
     "data": {
      "text/plain": [
       "<torch._C.Generator at 0x7f56c0016570>"
      ]
     },
     "execution_count": 1,
     "metadata": {},
     "output_type": "execute_result"
    }
   ],
   "source": [
    "import torch\n",
    "import torch.nn as nn\n",
    "import torch.nn.functional as F\n",
    "import torch.optim as optim\n",
    "\n",
    "torch.manual_seed(1)"
   ]
  },
  {
   "cell_type": "code",
   "execution_count": 2,
   "metadata": {},
   "outputs": [],
   "source": [
    "import pandas as pd\n",
    "#import seaborn as sns\n",
    "import matplotlib.pyplot as plt\n",
    "import numpy as np"
   ]
  },
  {
   "cell_type": "code",
   "execution_count": 4,
   "metadata": {},
   "outputs": [],
   "source": [
    "import sys\n",
    "sys.path.insert(0, '/home/ooo/projects/housingprice/code')\n",
    "#sys.path.insert(0, '/home/gangwu/cs224n/housingprice/code')\n",
    "import vocab\n",
    "from vocab import get_glove"
   ]
  },
  {
   "cell_type": "code",
   "execution_count": 5,
   "metadata": {},
   "outputs": [
    {
     "name": "stderr",
     "output_type": "stream",
     "text": [
      "  0%|          | 7015/2196017 [00:00<00:31, 70142.54it/s]"
     ]
    },
    {
     "name": "stdout",
     "output_type": "stream",
     "text": [
      "Loading GLoVE vectors from file: ../data/glove/glove.6B.50d.txt\n"
     ]
    },
    {
     "name": "stderr",
     "output_type": "stream",
     "text": [
      " 18%|█▊        | 400000/2196017 [00:03<00:16, 105737.65it/s]\n"
     ]
    }
   ],
   "source": [
    "glove_path = '../data/glove/glove.6B.50d.txt'\n",
    "embedding_size = 50\n",
    "emb_matrix, word2id, id2word = get_glove(glove_path, embedding_size)"
   ]
  },
  {
   "cell_type": "code",
   "execution_count": 6,
   "metadata": {},
   "outputs": [],
   "source": [
    "from vocab import PAD_ID, UNK_ID\n",
    "import re\n",
    "\n",
    "def split_by_whitespace(sentence):                               \n",
    "    words = []                                                             \n",
    "    for space_separated_fragment in sentence.strip().split():       \n",
    "        words.extend(re.split(\" \", space_separated_fragment))              \n",
    "    return [w for w in words if w] \n",
    "\n",
    "def cleanup_tokens(tokens):\n",
    "    words = []\n",
    "    for tk in tokens:\n",
    "        tmp = ''\n",
    "        for c in tk:\n",
    "            if not c.isalnum():\n",
    "                continue\n",
    "            tmp += c.lower()\n",
    "        if tmp:\n",
    "            words.append(tmp)\n",
    "    return words\n",
    "\n",
    "def sentence_to_token_ids(sentence, word2id):                              \n",
    "    \"\"\"Turns an already-tokenized sentence string into word indices        \n",
    "    e.g. \"i do n't know\" -> [9, 32, 16, 96]\n",
    "    Note any token that isn't in the word2id mapping gets mapped to the id for UNK\n",
    "    \"\"\"\n",
    "    tokens = split_by_whitespace(sentence) # list of strings\n",
    "    clean_tokens = cleanup_tokens(tokens)\n",
    "    ids = [word2id.get(w, UNK_ID) for w in clean_tokens]                         \n",
    "    return tokens, clean_tokens, ids\n",
    "\n",
    "def padded(idsList, tgtLength):\n",
    "    if len(idsList) > tgtLength:\n",
    "        return idsList[:tgtLength]\n",
    "    return idsList + [PAD_ID]*(tgtLength - len(idsList))"
   ]
  },
  {
   "cell_type": "code",
   "execution_count": 7,
   "metadata": {},
   "outputs": [],
   "source": [
    "df_train = pd.read_csv('../csvFiles/clean.csv')\n",
    "\n",
    "priceList = list()\n",
    "discList = list()\n",
    "\n",
    "for idx, row in df_train.iterrows():\n",
    "    priceList.append(row['sold_price'])\n",
    "    tmpDisc = row['Disc']\n",
    "    tokens, clean_tokens, ids = sentence_to_token_ids(tmpDisc, word2id)\n",
    "    paddedIdsList = padded(ids, 100)\n",
    "    discList.append(paddedIdsList)"
   ]
  },
  {
   "cell_type": "code",
   "execution_count": 8,
   "metadata": {},
   "outputs": [
    {
     "name": "stdout",
     "output_type": "stream",
     "text": [
      "1063\n",
      "1063\n"
     ]
    }
   ],
   "source": [
    "print(len(priceList))\n",
    "print(len(discList))"
   ]
  },
  {
   "cell_type": "code",
   "execution_count": 9,
   "metadata": {},
   "outputs": [
    {
     "name": "stdout",
     "output_type": "stream",
     "text": [
      "485000\n",
      "[57343, 7877, 407, 1868, 1239, 940, 394, 4489, 6, 39, 12389, 145, 3130, 165, 19, 4233, 5, 1397, 707, 8, 2, 1, 2403, 19, 9, 2387, 1656, 5, 1888, 746, 115574, 61288, 8, 758, 7, 7212, 929, 52, 4060, 15, 15974, 7613, 6060, 1, 11194, 2213, 12661, 12, 196, 280, 7672, 33, 1158, 6, 1280, 2, 758, 865, 48, 892, 77, 47044, 165, 636, 1656, 424, 69409, 257, 24, 1, 0, 0, 0, 0, 0, 0, 0, 0, 0, 0, 0, 0, 0, 0, 0, 0, 0, 0, 0, 0, 0, 0, 0, 0, 0, 0, 0, 0, 0, 0]\n"
     ]
    }
   ],
   "source": [
    "print(priceList[5])\n",
    "print(discList[5])"
   ]
  },
  {
   "cell_type": "code",
   "execution_count": 55,
   "metadata": {},
   "outputs": [],
   "source": [
    "class LSTMDisc(nn.Module):\n",
    "    \n",
    "    def __init__(self, embedding_dim, hidden_dim, vocab_size):\n",
    "        super(LSTMDisc, self).__init__()\n",
    "        self.hidden_dim = hidden_dim\n",
    "        \n",
    "        self.word_embeddings = nn.Embedding(vocab_size, embedding_dim)\n",
    "        self.word_embeddings.weight.data.copy_(torch.from_numpy(emb_matrix))\n",
    "        self.lstm = nn.LSTM(embedding_dim, hidden_dim)\n",
    "        \n",
    "        # target size is 1, as the sold price is one number\n",
    "        self.hidden2tag = nn.Linear(hidden_dim, 1)\n",
    "        self.hidden = self.init_hidden()\n",
    "        \n",
    "    def init_hidden(self):\n",
    "        return (torch.zeros(1, 1, self.hidden_dim),\n",
    "                torch.zeros(1, 1, self.hidden_dim))\n",
    "    \n",
    "    def forward(self, sentence):\n",
    "        embeds = self.word_embeddings(sentence)\n",
    "        lstm_out, self.hidden = self.lstm(embeds.view(len(sentence), 1, -1), self.hidden)\n",
    "        #print(lstm_out)\n",
    "        #print(lstm_out.shape)\n",
    "        mean_lstm_out = torch.mean(lstm_out, 0)\n",
    "        #print(mean_lstm_out)\n",
    "        #print(mean_lstm_out.shape)\n",
    "        tag_space = self.hidden2tag(mean_lstm_out)\n",
    "        #tag_scores = F.log_softmax(tag_space, dim=1)\n",
    "        return tag_space"
   ]
  },
  {
   "cell_type": "code",
   "execution_count": 56,
   "metadata": {},
   "outputs": [],
   "source": [
    "EMBEDDING_DIM = 50\n",
    "HIDDEN_DIM = 50"
   ]
  },
  {
   "cell_type": "code",
   "execution_count": 57,
   "metadata": {},
   "outputs": [],
   "source": [
    "model = LSTMDisc(EMBEDDING_DIM, HIDDEN_DIM, len(emb_matrix))"
   ]
  },
  {
   "cell_type": "code",
   "execution_count": 59,
   "metadata": {},
   "outputs": [
    {
     "name": "stdout",
     "output_type": "stream",
     "text": [
      "tensor(1.00000e-02 *\n",
      "       [[-6.4950]])\n"
     ]
    }
   ],
   "source": [
    "with torch.no_grad():\n",
    "    inputs = torch.tensor(discList[5], dtype=torch.long)\n",
    "    tag_scores = model(inputs)\n",
    "    print(tag_scores)"
   ]
  },
  {
   "cell_type": "code",
   "execution_count": 60,
   "metadata": {},
   "outputs": [],
   "source": [
    "loss_function = nn.MSELoss()\n",
    "optimizer = optim.SGD(model.parameters(), lr=0.1)"
   ]
  },
  {
   "cell_type": "code",
   "execution_count": 68,
   "metadata": {},
   "outputs": [
    {
     "name": "stdout",
     "output_type": "stream",
     "text": [
      "tensor(1.0865e+10)\n",
      "tensor(1.7348e+10)\n",
      "tensor(3.7285e+10)\n",
      "tensor(6.7291e+11)\n",
      "tensor(4.8202e+11)\n",
      "tensor(4.2519e+08)\n",
      "tensor(1.5543e+07)\n",
      "tensor(7.6955e+08)\n",
      "tensor(5.9461e+09)\n",
      "tensor(7.6415e+09)\n",
      "tensor(1.8671e+10)\n",
      "tensor(6.8387e+09)\n",
      "tensor(3.2905e+11)\n",
      "tensor(1.9977e+11)\n",
      "tensor(1.7355e+10)\n",
      "tensor(5.3907e+10)\n",
      "tensor(1.8483e+11)\n",
      "tensor(7.5751e+10)\n",
      "tensor(1.5562e+10)\n",
      "tensor(3.4565e+10)\n",
      "tensor(1.0935e+11)\n",
      "tensor(1.1602e+10)\n",
      "tensor(2.9714e+08)\n",
      "tensor(1.1213e+07)\n",
      "tensor(1.2276e+10)\n",
      "tensor(5.3333e+09)\n",
      "tensor(5.5183e+10)\n",
      "tensor(2.4688e+09)\n",
      "tensor(3.8186e+10)\n",
      "tensor(4.7335e+08)\n",
      "tensor(7.1575e+09)\n",
      "tensor(2.0038e+11)\n",
      "tensor(3.9935e+10)\n",
      "tensor(2.6340e+08)\n",
      "tensor(1.1445e+10)\n",
      "tensor(4.3165e+07)\n",
      "tensor(8.4926e+10)\n",
      "tensor(8.3828e+10)\n",
      "tensor(1.0888e+11)\n",
      "tensor(8.8328e+09)\n",
      "tensor(2.0509e+10)\n",
      "tensor(8.3838e+09)\n",
      "tensor(9.7714e+09)\n",
      "tensor(1.8795e+10)\n",
      "tensor(4.9637e+10)\n",
      "tensor(3.3759e+10)\n",
      "tensor(2.3831e+10)\n",
      "tensor(5.7182e+09)\n",
      "tensor(7.1099e+10)\n",
      "tensor(5.9258e+09)\n",
      "tensor(5.0622e+11)\n",
      "tensor(3.0833e+11)\n",
      "tensor(1.4094e+08)\n",
      "tensor(7.2108e+10)\n",
      "tensor(2.3672e+10)\n",
      "tensor(6.7086e+10)\n",
      "tensor(1.0232e+11)\n",
      "tensor(1.0143e+10)\n",
      "tensor(1.4968e+11)\n",
      "tensor(7.6096e+09)\n",
      "tensor(4.4696e+09)\n",
      "tensor(6.6224e+08)\n",
      "tensor(1.3207e+10)\n",
      "tensor(8.9343e+09)\n",
      "tensor(3.3356e+10)\n",
      "tensor(9.4202e+07)\n",
      "tensor(8.5524e+10)\n",
      "tensor(4.9150e+10)\n",
      "tensor(1.6287e+11)\n",
      "tensor(5.8224e+08)\n",
      "tensor(3.3678e+08)\n",
      "tensor(1.3070e+09)\n",
      "tensor(9.2629e+10)\n",
      "tensor(5.0394e+10)\n",
      "tensor(4.5232e+10)\n",
      "tensor(2.5811e+10)\n",
      "tensor(2.4707e+10)\n",
      "tensor(1.6467e+09)\n",
      "tensor(1.2223e+11)\n",
      "tensor(6.3903e+10)\n",
      "tensor(3.6733e+09)\n",
      "tensor(3.0537e+11)\n",
      "tensor(1.1396e+11)\n",
      "tensor(1.2963e+11)\n",
      "tensor(1.1833e+10)\n",
      "tensor(2.9299e+10)\n",
      "tensor(1.2602e+11)\n",
      "tensor(1.6986e+10)\n",
      "tensor(3.2974e+09)\n",
      "tensor(6.2089e+09)\n",
      "tensor(2.1848e+10)\n",
      "tensor(6.0248e+09)\n",
      "tensor(1.0570e+12)\n",
      "tensor(1.0262e+12)\n",
      "tensor(4.2065e+08)\n",
      "tensor(6.1186e+07)\n",
      "tensor(9.9805e+10)\n",
      "tensor(1.2669e+11)\n",
      "tensor(9.4623e+08)\n",
      "tensor(4.9752e+09)\n",
      "tensor(4.4405e+10)\n",
      "tensor(6.2486e+10)\n",
      "tensor(9.2152e+07)\n",
      "tensor(5.9629e+10)\n",
      "tensor(5.7273e+09)\n",
      "tensor(3.4489e+10)\n",
      "tensor(1.3856e+10)\n",
      "tensor(4.6625e+10)\n",
      "tensor(3.0866e+10)\n",
      "tensor(1.2027e+11)\n",
      "tensor(7.3778e+10)\n",
      "tensor(2.5621e+09)\n",
      "tensor(4.4914e+06)\n",
      "tensor(4.7443e+10)\n",
      "tensor(2.1456e+09)\n",
      "tensor(4.1245e+10)\n",
      "tensor(3.5062e+10)\n",
      "tensor(1.1314e+10)\n",
      "tensor(3.1834e+10)\n",
      "tensor(1.3573e+10)\n",
      "tensor(2.3066e+08)\n"
     ]
    },
    {
     "ename": "KeyboardInterrupt",
     "evalue": "",
     "output_type": "error",
     "traceback": [
      "\u001b[0;31m---------------------------------------------------------------------------\u001b[0m",
      "\u001b[0;31mKeyboardInterrupt\u001b[0m                         Traceback (most recent call last)",
      "\u001b[0;32m<ipython-input-68-a3974d8ae696>\u001b[0m in \u001b[0;36m<module>\u001b[0;34m()\u001b[0m\n\u001b[1;32m     13\u001b[0m         \u001b[0mprint\u001b[0m\u001b[0;34m(\u001b[0m\u001b[0mloss\u001b[0m\u001b[0;34m)\u001b[0m\u001b[0;34m\u001b[0m\u001b[0m\n\u001b[1;32m     14\u001b[0m         \u001b[0mloss\u001b[0m\u001b[0;34m.\u001b[0m\u001b[0mbackward\u001b[0m\u001b[0;34m(\u001b[0m\u001b[0;34m)\u001b[0m\u001b[0;34m\u001b[0m\u001b[0m\n\u001b[0;32m---> 15\u001b[0;31m         \u001b[0moptimizer\u001b[0m\u001b[0;34m.\u001b[0m\u001b[0mstep\u001b[0m\u001b[0;34m(\u001b[0m\u001b[0;34m)\u001b[0m\u001b[0;34m\u001b[0m\u001b[0m\n\u001b[0m",
      "\u001b[0;32m~/projects/packages/anaconda3/lib/python3.6/site-packages/torch/optim/sgd.py\u001b[0m in \u001b[0;36mstep\u001b[0;34m(self, closure)\u001b[0m\n\u001b[1;32m    105\u001b[0m                         \u001b[0md_p\u001b[0m \u001b[0;34m=\u001b[0m \u001b[0mbuf\u001b[0m\u001b[0;34m\u001b[0m\u001b[0m\n\u001b[1;32m    106\u001b[0m \u001b[0;34m\u001b[0m\u001b[0m\n\u001b[0;32m--> 107\u001b[0;31m                 \u001b[0mp\u001b[0m\u001b[0;34m.\u001b[0m\u001b[0mdata\u001b[0m\u001b[0;34m.\u001b[0m\u001b[0madd_\u001b[0m\u001b[0;34m(\u001b[0m\u001b[0;34m-\u001b[0m\u001b[0mgroup\u001b[0m\u001b[0;34m[\u001b[0m\u001b[0;34m'lr'\u001b[0m\u001b[0;34m]\u001b[0m\u001b[0;34m,\u001b[0m \u001b[0md_p\u001b[0m\u001b[0;34m)\u001b[0m\u001b[0;34m\u001b[0m\u001b[0m\n\u001b[0m\u001b[1;32m    108\u001b[0m \u001b[0;34m\u001b[0m\u001b[0m\n\u001b[1;32m    109\u001b[0m         \u001b[0;32mreturn\u001b[0m \u001b[0mloss\u001b[0m\u001b[0;34m\u001b[0m\u001b[0m\n",
      "\u001b[0;31mKeyboardInterrupt\u001b[0m: "
     ]
    }
   ],
   "source": [
    "for epoch in range(2):\n",
    "    for sentence, tags in zip(discList, priceList):\n",
    "\n",
    "        model.zero_grad()\n",
    "        model.hidden = model.init_hidden()\n",
    "\n",
    "        in_sentence = torch.tensor(sentence, dtype=torch.long)\n",
    "        tag_scores = model(in_sentence)\n",
    "        \n",
    "        in_tags = torch.tensor(tags, dtype=torch.float).view(1, 1)\n",
    "\n",
    "        loss = loss_function(tag_scores, in_tags)\n",
    "        print(loss)\n",
    "        loss.backward()\n",
    "        optimizer.step()"
   ]
  },
  {
   "cell_type": "code",
   "execution_count": null,
   "metadata": {},
   "outputs": [],
   "source": []
  },
  {
   "cell_type": "code",
   "execution_count": null,
   "metadata": {},
   "outputs": [],
   "source": []
  }
 ],
 "metadata": {
  "kernelspec": {
   "display_name": "Python (house)",
   "language": "python",
   "name": "house"
  },
  "language_info": {
   "codemirror_mode": {
    "name": "ipython",
    "version": 2
   },
   "file_extension": ".py",
   "mimetype": "text/x-python",
   "name": "python",
   "nbconvert_exporter": "python",
   "pygments_lexer": "ipython2",
   "version": "2.7.15"
  }
 },
 "nbformat": 4,
 "nbformat_minor": 2
}
