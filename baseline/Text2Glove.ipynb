{
 "cells": [
  {
   "cell_type": "code",
   "execution_count": 1,
   "metadata": {},
   "outputs": [],
   "source": [
    "import pandas as pd\n",
    "import seaborn as sns\n",
    "import matplotlib.pyplot as plt\n",
    "import numpy as np"
   ]
  },
  {
   "cell_type": "markdown",
   "metadata": {},
   "source": [
    "**Read Data**"
   ]
  },
  {
   "cell_type": "code",
   "execution_count": 2,
   "metadata": {},
   "outputs": [],
   "source": [
    "df_train = pd.read_csv('../csvFiles/clean.csv')"
   ]
  },
  {
   "cell_type": "code",
   "execution_count": 3,
   "metadata": {},
   "outputs": [
    {
     "data": {
      "text/plain": [
       "Index([u'Unnamed: 0', u'link', u'image', u'addr', u'zip', u'redfin_price',\n",
       "       u'sold_price', u'Beds', u'Bath', u'SqFt', u'YearBuilt', u'SoldTime',\n",
       "       u'Disc', u'Stories', u'Style', u'Community', u'County', u'LotSize',\n",
       "       u'ElemSchool', u'MidSchool', u'HighSchool', u'Walk', u'Transit',\n",
       "       u'Bike'],\n",
       "      dtype='object')"
      ]
     },
     "execution_count": 3,
     "metadata": {},
     "output_type": "execute_result"
    }
   ],
   "source": [
    "df_train.columns"
   ]
  },
  {
   "cell_type": "code",
   "execution_count": 4,
   "metadata": {},
   "outputs": [
    {
     "name": "stdout",
     "output_type": "stream",
     "text": [
      "BOM! Buyer got cold feet. Bring your buyers to this charming well maintained home with lots of character located in the Hosford-Abernethy neighborhood with a walk score of 90! Recently refinished hardwoods in living and dining room, new roof on detached garage, updated double-paned vinyl windows, wired for security system. Basement has potential to double the living space or turn into ADU. [Home Energy Score = 5. HES Report at https://api.greenbuildingregistry.com/report/pdf/R183302-20180524.pdf]\n"
     ]
    }
   ],
   "source": [
    "print(df_train.iloc[5]['Disc'])"
   ]
  },
  {
   "cell_type": "code",
   "execution_count": 6,
   "metadata": {},
   "outputs": [],
   "source": [
    "import sys\n",
    "#sys.path.insert(0, '/home/ooo/projects/housingprice/code')\n",
    "sys.path.insert(0, '/home/gangwu/cs224n/housingprice/code')\n",
    "import vocab\n",
    "from vocab import get_glove"
   ]
  },
  {
   "cell_type": "code",
   "execution_count": 7,
   "metadata": {},
   "outputs": [],
   "source": [
    "glove_path = '../data/glove/glove.6B.50d.txt'\n",
    "embedding_size = 50"
   ]
  },
  {
   "cell_type": "code",
   "execution_count": 8,
   "metadata": {},
   "outputs": [
    {
     "name": "stderr",
     "output_type": "stream",
     "text": [
      "  0%|          | 1758/2196017 [00:00<02:04, 17573.48it/s]"
     ]
    },
    {
     "name": "stdout",
     "output_type": "stream",
     "text": [
      "Loading GLoVE vectors from file: ../data/glove/glove.6B.50d.txt\n"
     ]
    },
    {
     "name": "stderr",
     "output_type": "stream",
     "text": [
      " 18%|█▊        | 400000/2196017 [00:10<00:47, 37502.85it/s]\n"
     ]
    }
   ],
   "source": [
    "emb_matrix, word2id, id2word = get_glove(glove_path, embedding_size)"
   ]
  },
  {
   "cell_type": "code",
   "execution_count": 9,
   "metadata": {},
   "outputs": [
    {
     "name": "stdout",
     "output_type": "stream",
     "text": [
      "2196019\n",
      "400002\n",
      "400002\n"
     ]
    }
   ],
   "source": [
    "print(len(emb_matrix))\n",
    "print(len(word2id))\n",
    "print(len(id2word))"
   ]
  },
  {
   "cell_type": "code",
   "execution_count": 10,
   "metadata": {},
   "outputs": [
    {
     "name": "stdout",
     "output_type": "stream",
     "text": [
      "[-0.47851833  0.5579875  -0.0570473   0.18844255 -0.26922183 -0.01966445\n",
      " -0.38515593 -0.23353382 -1.4116583  -0.94986905  1.39031972  0.01340189\n",
      " -1.08604726 -1.13297584  0.48419735  0.58259373  0.31675727 -0.73535243\n",
      "  0.02780522  1.52671851 -0.45642692 -0.43885422  0.85493782 -0.59238879\n",
      " -0.58410456 -2.07340075 -0.34491365 -0.34557877 -0.24347448 -1.02403083\n",
      "  1.41462456 -0.20856926  1.05463165  1.6520875   0.51867926 -0.04733679\n",
      " -0.9136005  -1.42055527 -0.06208297 -0.11008329 -1.20923822 -0.86434786\n",
      " -1.18914725 -1.45249156  0.22917996  0.79803887 -0.61456111 -0.34830932\n",
      " -0.47532453  1.85809705]\n",
      "biennials\n",
      "3507\n"
     ]
    }
   ],
   "source": [
    "print(emb_matrix[0])\n",
    "print(next(iter(word2id)))\n",
    "print(word2id['sky'])"
   ]
  },
  {
   "cell_type": "code",
   "execution_count": 11,
   "metadata": {},
   "outputs": [
    {
     "name": "stdout",
     "output_type": "stream",
     "text": [
      "BOM! Buyer got cold feet. Bring your buyers to this charming well maintained home with lots of character located in the Hosford-Abernethy neighborhood with a walk score of 90! Recently refinished hardwoods in living and dining room, new roof on detached garage, updated double-paned vinyl windows, wired for security system. Basement has potential to double the living space or turn into ADU. [Home Energy Score = 5. HES Report at https://api.greenbuildingregistry.com/report/pdf/R183302-20180524.pdf]\n"
     ]
    }
   ],
   "source": [
    "sentence = df_train.iloc[5]['Disc']\n",
    "print(sentence)"
   ]
  },
  {
   "cell_type": "code",
   "execution_count": 12,
   "metadata": {},
   "outputs": [],
   "source": [
    "from vocab import PAD_ID, UNK_ID\n",
    "import re\n",
    "\n",
    "def split_by_whitespace(sentence):                               \n",
    "    words = []                                                             \n",
    "    for space_separated_fragment in sentence.strip().split():       \n",
    "        words.extend(re.split(\" \", space_separated_fragment))              \n",
    "    return [w for w in words if w] \n",
    "\n",
    "def cleanup_tokens(tokens):\n",
    "    words = []\n",
    "    for tk in tokens:\n",
    "        tmp = ''\n",
    "        for c in tk:\n",
    "            if not c.isalnum():\n",
    "                continue\n",
    "            tmp += c.lower()\n",
    "        if tmp:\n",
    "            words.append(tmp)\n",
    "    return words\n",
    "\n",
    "def sentence_to_token_ids(sentence, word2id):                              \n",
    "    \"\"\"Turns an already-tokenized sentence string into word indices        \n",
    "    e.g. \"i do n't know\" -> [9, 32, 16, 96]\n",
    "    Note any token that isn't in the word2id mapping gets mapped to the id for UNK\n",
    "    \"\"\"\n",
    "    tokens = split_by_whitespace(sentence) # list of strings\n",
    "    clean_tokens = cleanup_tokens(tokens)\n",
    "    ids = [word2id.get(w, UNK_ID) for w in clean_tokens]                         \n",
    "    return tokens, clean_tokens, ids"
   ]
  },
  {
   "cell_type": "code",
   "execution_count": 13,
   "metadata": {},
   "outputs": [],
   "source": [
    "tokens, clean_tokens, ids = sentence_to_token_ids(sentence, word2id)"
   ]
  },
  {
   "cell_type": "code",
   "execution_count": 14,
   "metadata": {},
   "outputs": [
    {
     "name": "stdout",
     "output_type": "stream",
     "text": [
      "['BOM!', 'Buyer', 'got', 'cold', 'feet.', 'Bring', 'your', 'buyers', 'to', 'this', 'charming', 'well', 'maintained', 'home', 'with', 'lots', 'of', 'character', 'located', 'in', 'the', 'Hosford-Abernethy', 'neighborhood', 'with', 'a', 'walk', 'score', 'of', '90!', 'Recently', 'refinished', 'hardwoods', 'in', 'living', 'and', 'dining', 'room,', 'new', 'roof', 'on', 'detached', 'garage,', 'updated', 'double-paned', 'vinyl', 'windows,', 'wired', 'for', 'security', 'system.', 'Basement', 'has', 'potential', 'to', 'double', 'the', 'living', 'space', 'or', 'turn', 'into', 'ADU.', '[Home', 'Energy', 'Score', '=', '5.', 'HES', 'Report', 'at', 'https://api.greenbuildingregistry.com/report/pdf/R183302-20180524.pdf]']\n",
      "['bom', 'buyer', 'got', 'cold', 'feet', 'bring', 'your', 'buyers', 'to', 'this', 'charming', 'well', 'maintained', 'home', 'with', 'lots', 'of', 'character', 'located', 'in', 'the', 'hosfordabernethy', 'neighborhood', 'with', 'a', 'walk', 'score', 'of', '90', 'recently', 'refinished', 'hardwoods', 'in', 'living', 'and', 'dining', 'room', 'new', 'roof', 'on', 'detached', 'garage', 'updated', 'doublepaned', 'vinyl', 'windows', 'wired', 'for', 'security', 'system', 'basement', 'has', 'potential', 'to', 'double', 'the', 'living', 'space', 'or', 'turn', 'into', 'adu', 'home', 'energy', 'score', '5', 'hes', 'report', 'at', 'httpsapigreenbuildingregistrycomreportpdfr18330220180524pdf']\n",
      "[57343, 7877, 407, 1868, 1239, 940, 394, 4489, 6, 39, 12389, 145, 3130, 165, 19, 4233, 5, 1397, 707, 8, 2, 1, 2403, 19, 9, 2387, 1656, 5, 1888, 746, 115574, 61288, 8, 758, 7, 7212, 929, 52, 4060, 15, 15974, 7613, 6060, 1, 11194, 2213, 12661, 12, 196, 280, 7672, 33, 1158, 6, 1280, 2, 758, 865, 48, 892, 77, 47044, 165, 636, 1656, 424, 69409, 257, 24, 1]\n"
     ]
    }
   ],
   "source": [
    "print(tokens)\n",
    "print(clean_tokens)\n",
    "print(ids)"
   ]
  },
  {
   "cell_type": "code",
   "execution_count": 15,
   "metadata": {},
   "outputs": [],
   "source": [
    "def padded(token_batch, batch_pad=0):\n",
    "    \"\"\"\n",
    "    Inputs:\n",
    "      token_batch: List (length batch size) of lists of ints.\n",
    "      batch_pad: Int. Length to pad to. If 0, pad to maximum length sequence in token_batch.\n",
    "    Returns:\n",
    "      List (length batch_size) of padded of lists of ints.\n",
    "        All are same length - batch_pad if batch_pad!=0, otherwise the maximum length in token_batch\n",
    "    \"\"\"\n",
    "    maxlen = max(map(lambda x: len(x), token_batch)) if batch_pad == 0 else batch_pad\n",
    "    return map(lambda token_list: token_list + [PAD_ID] * (maxlen - len(token_list)), token_batch)"
   ]
  },
  {
   "cell_type": "code",
   "execution_count": 16,
   "metadata": {},
   "outputs": [],
   "source": [
    "padded_ids = padded([ids], 10)"
   ]
  },
  {
   "cell_type": "code",
   "execution_count": 17,
   "metadata": {},
   "outputs": [
    {
     "name": "stdout",
     "output_type": "stream",
     "text": [
      "[[57343, 7877, 407, 1868, 1239, 940, 394, 4489, 6, 39, 12389, 145, 3130, 165, 19, 4233, 5, 1397, 707, 8, 2, 1, 2403, 19, 9, 2387, 1656, 5, 1888, 746, 115574, 61288, 8, 758, 7, 7212, 929, 52, 4060, 15, 15974, 7613, 6060, 1, 11194, 2213, 12661, 12, 196, 280, 7672, 33, 1158, 6, 1280, 2, 758, 865, 48, 892, 77, 47044, 165, 636, 1656, 424, 69409, 257, 24, 1]]\n"
     ]
    }
   ],
   "source": [
    "print(padded_ids)"
   ]
  },
  {
   "cell_type": "code",
   "execution_count": 19,
   "metadata": {},
   "outputs": [
    {
     "ename": "SyntaxError",
     "evalue": "invalid syntax (<ipython-input-19-7d1797729e38>, line 1)",
     "output_type": "error",
     "traceback": [
      "\u001b[0;36m  File \u001b[0;32m\"<ipython-input-19-7d1797729e38>\"\u001b[0;36m, line \u001b[0;32m1\u001b[0m\n\u001b[0;31m    source activate house\u001b[0m\n\u001b[0m                  ^\u001b[0m\n\u001b[0;31mSyntaxError\u001b[0m\u001b[0;31m:\u001b[0m invalid syntax\n"
     ]
    }
   ],
   "source": [
    "source activate house"
   ]
  },
  {
   "cell_type": "code",
   "execution_count": 18,
   "metadata": {},
   "outputs": [
    {
     "ename": "ImportError",
     "evalue": "No module named torch",
     "output_type": "error",
     "traceback": [
      "\u001b[0;31m---------------------------------------------------------------------------\u001b[0m",
      "\u001b[0;31mImportError\u001b[0m                               Traceback (most recent call last)",
      "\u001b[0;32m<ipython-input-18-36f128827027>\u001b[0m in \u001b[0;36m<module>\u001b[0;34m()\u001b[0m\n\u001b[0;32m----> 1\u001b[0;31m \u001b[0;32mimport\u001b[0m \u001b[0mtorch\u001b[0m\u001b[0;34m\u001b[0m\u001b[0m\n\u001b[0m\u001b[1;32m      2\u001b[0m \u001b[0;32mimport\u001b[0m \u001b[0mtorch\u001b[0m\u001b[0;34m.\u001b[0m\u001b[0mnn\u001b[0m \u001b[0;32mas\u001b[0m \u001b[0mnn\u001b[0m\u001b[0;34m\u001b[0m\u001b[0m\n\u001b[1;32m      3\u001b[0m \u001b[0;32mimport\u001b[0m \u001b[0mtorch\u001b[0m\u001b[0;34m.\u001b[0m\u001b[0mnn\u001b[0m\u001b[0;34m.\u001b[0m\u001b[0mfunctional\u001b[0m \u001b[0;32mas\u001b[0m \u001b[0mF\u001b[0m\u001b[0;34m\u001b[0m\u001b[0m\n\u001b[1;32m      4\u001b[0m \u001b[0;32mimport\u001b[0m \u001b[0mtorch\u001b[0m\u001b[0;34m.\u001b[0m\u001b[0moptim\u001b[0m \u001b[0;32mas\u001b[0m \u001b[0moptim\u001b[0m\u001b[0;34m\u001b[0m\u001b[0m\n\u001b[1;32m      5\u001b[0m \u001b[0;34m\u001b[0m\u001b[0m\n",
      "\u001b[0;31mImportError\u001b[0m: No module named torch"
     ]
    }
   ],
   "source": [
    "import torch\n",
    "import torch.nn as nn\n",
    "import torch.nn.functional as F\n",
    "import torch.optim as optim\n",
    "\n",
    "torch.manual_seed(1)"
   ]
  },
  {
   "cell_type": "markdown",
   "metadata": {},
   "source": []
  }
 ],
 "metadata": {
  "kernelspec": {
   "display_name": "Python 2",
   "language": "python",
   "name": "python2"
  },
  "language_info": {
   "codemirror_mode": {
    "name": "ipython",
    "version": 2
   },
   "file_extension": ".py",
   "mimetype": "text/x-python",
   "name": "python",
   "nbconvert_exporter": "python",
   "pygments_lexer": "ipython2",
   "version": "2.7.15"
  }
 },
 "nbformat": 4,
 "nbformat_minor": 2
}
