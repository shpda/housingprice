{
 "cells": [
  {
   "cell_type": "code",
   "execution_count": 1,
   "metadata": {},
   "outputs": [],
   "source": [
    "import pandas as pd\n",
    "import numpy as np\n",
    "from sklearn.model_selection import cross_val_score, train_test_split\n",
    "from sklearn.preprocessing import StandardScaler\n",
    "from sklearn.linear_model import LinearRegression, RidgeCV, LassoCV, ElasticNetCV\n",
    "from sklearn.metrics import mean_squared_error, make_scorer\n",
    "import matplotlib.pyplot as plt"
   ]
  },
  {
   "cell_type": "code",
   "execution_count": 2,
   "metadata": {},
   "outputs": [],
   "source": [
    "train = pd.read_csv('../data/portland/total.csv')"
   ]
  },
  {
   "cell_type": "markdown",
   "metadata": {},
   "source": [
    "**Load Data**"
   ]
  },
  {
   "cell_type": "code",
   "execution_count": 3,
   "metadata": {},
   "outputs": [
    {
     "name": "stdout",
     "output_type": "stream",
     "text": [
      "train: (2584, 23)\n"
     ]
    }
   ],
   "source": [
    "print('train: ' + str(train.shape))"
   ]
  },
  {
   "cell_type": "code",
   "execution_count": 4,
   "metadata": {},
   "outputs": [],
   "source": [
    "train.columns = ['link', 'image', 'addr', 'zip', 'redfin_price', 'sold_price', 'Beds', 'Bath', 'SqFt', 'YearBuilt', 'SoldTime', 'Disc', 'Stories', 'Style', 'Community', 'County', 'LotSize', 'ElemSchool', 'MidSchool', 'HighSchool', 'Walk', 'Transit', 'Bike']"
   ]
  },
  {
   "cell_type": "code",
   "execution_count": 5,
   "metadata": {},
   "outputs": [],
   "source": [
    "new_df = train.dropna()"
   ]
  },
  {
   "cell_type": "code",
   "execution_count": 6,
   "metadata": {},
   "outputs": [
    {
     "name": "stdout",
     "output_type": "stream",
     "text": [
      "(1063, 23)\n"
     ]
    }
   ],
   "source": [
    "print(new_df.shape)"
   ]
  },
  {
   "cell_type": "code",
   "execution_count": 7,
   "metadata": {},
   "outputs": [
    {
     "name": "stderr",
     "output_type": "stream",
     "text": [
      "/home/ooo/projects/packages/anaconda3/lib/python3.6/site-packages/pandas/core/generic.py:4401: SettingWithCopyWarning: \n",
      "A value is trying to be set on a copy of a slice from a DataFrame.\n",
      "Try using .loc[row_indexer,col_indexer] = value instead\n",
      "\n",
      "See the caveats in the documentation: http://pandas.pydata.org/pandas-docs/stable/indexing.html#indexing-view-versus-copy\n",
      "  self[name] = value\n"
     ]
    }
   ],
   "source": [
    "new_df.zip = new_df.zip.str.extract(r'(\\d+)').astype('int')\n",
    "new_df.redfin_price = new_df.redfin_price.str.replace(r'$', '')\n",
    "new_df.redfin_price = new_df.redfin_price.str.replace(r',', '').astype('int')\n",
    "new_df.sold_price = new_df.sold_price.str.replace(r'$', '')\n",
    "new_df.sold_price = new_df.sold_price.str.replace(r',', '').astype('int')\n",
    "new_df.SqFt = new_df.SqFt.str.replace(r',', '').astype('int')\n",
    "new_df.YearBuilt = new_df.YearBuilt.astype('int')\n",
    "#new_df.Stories = new_df.Stories.astype('int')\n",
    "new_df.ElemSchool = new_df.ElemSchool.astype('int')\n",
    "new_df.MidSchool = new_df.MidSchool.astype('int')\n",
    "new_df.HighSchool = new_df.HighSchool.astype('int')\n",
    "new_df.Walk = new_df.Walk.str.extract(r'(\\d+)\\s*/\\s*100').astype('int')\n",
    "new_df.Transit = new_df.Transit.str.extract(r'(\\d+)\\s*/\\s*100').astype('int')\n",
    "new_df.Bike = new_df.Bike.str.extract(r'(\\d+)\\s*/\\s*100').astype('int')"
   ]
  },
  {
   "cell_type": "markdown",
   "metadata": {},
   "source": [
    "Take log on sales price"
   ]
  },
  {
   "cell_type": "code",
   "execution_count": 8,
   "metadata": {},
   "outputs": [
    {
     "name": "stderr",
     "output_type": "stream",
     "text": [
      "/home/ooo/projects/packages/anaconda3/lib/python3.6/site-packages/pandas/core/generic.py:4401: SettingWithCopyWarning: \n",
      "A value is trying to be set on a copy of a slice from a DataFrame.\n",
      "Try using .loc[row_indexer,col_indexer] = value instead\n",
      "\n",
      "See the caveats in the documentation: http://pandas.pydata.org/pandas-docs/stable/indexing.html#indexing-view-versus-copy\n",
      "  self[name] = value\n"
     ]
    }
   ],
   "source": [
    "new_df.sold_price = np.log(new_df.sold_price + 1)"
   ]
  },
  {
   "cell_type": "markdown",
   "metadata": {},
   "source": [
    "**Find Most Important Features**"
   ]
  },
  {
   "cell_type": "code",
   "execution_count": 9,
   "metadata": {},
   "outputs": [
    {
     "name": "stdout",
     "output_type": "stream",
     "text": [
      "sold_price      1.000000\n",
      "redfin_price    0.942147\n",
      "SqFt            0.739628\n",
      "ElemSchool      0.635460\n",
      "MidSchool       0.516681\n",
      "HighSchool      0.475760\n",
      "Walk            0.319470\n",
      "Bike            0.269988\n",
      "Transit         0.072679\n",
      "YearBuilt      -0.064907\n",
      "zip            -0.518784\n",
      "Name: sold_price, dtype: float64\n"
     ]
    }
   ],
   "source": [
    "corr = new_df.corr()\n",
    "corr.sort_values(['sold_price'], ascending=False, inplace=True)\n",
    "print(corr.sold_price)"
   ]
  },
  {
   "cell_type": "markdown",
   "metadata": {},
   "source": [
    "**Build Features**"
   ]
  },
  {
   "cell_type": "code",
   "execution_count": 10,
   "metadata": {},
   "outputs": [
    {
     "name": "stdout",
     "output_type": "stream",
     "text": [
      "total_features: 23\n",
      "numerical_features: 9\n",
      "categorical_features: 12\n"
     ]
    }
   ],
   "source": [
    "numerical_features = new_df.select_dtypes(exclude = [object]).columns\n",
    "numerical_features = numerical_features.drop('sold_price')\n",
    "numerical_features = numerical_features.drop('redfin_price')\n",
    "categorical_features = new_df.select_dtypes(include = ['object']).columns\n",
    "print('total_features: %d' % train.shape[1])\n",
    "print('numerical_features: %d' % len(numerical_features))\n",
    "print('categorical_features: %d' % len(categorical_features))\n",
    "train_num = new_df[numerical_features]"
   ]
  },
  {
   "cell_type": "markdown",
   "metadata": {},
   "source": [
    "handle remaining missing values for numerical features by using median as replacement"
   ]
  },
  {
   "cell_type": "code",
   "execution_count": 11,
   "metadata": {},
   "outputs": [
    {
     "name": "stdout",
     "output_type": "stream",
     "text": [
      "total_null_values: 0\n",
      "total_null_values: 0\n"
     ]
    }
   ],
   "source": [
    "print('total_null_values: %d' % train_num.isnull().values.sum())\n",
    "train_num = train_num.fillna(train_num.median())\n",
    "print('total_null_values: %d' % train_num.isnull().values.sum())"
   ]
  },
  {
   "cell_type": "code",
   "execution_count": 12,
   "metadata": {},
   "outputs": [
    {
     "name": "stdout",
     "output_type": "stream",
     "text": [
      "temp set dimension: (1063, 9)\n"
     ]
    }
   ],
   "source": [
    "temp_set = train_num\n",
    "print('temp set dimension: ' + str(temp_set.shape))"
   ]
  },
  {
   "cell_type": "markdown",
   "metadata": {},
   "source": [
    "**Build Train and Dev Set**"
   ]
  },
  {
   "cell_type": "code",
   "execution_count": 13,
   "metadata": {},
   "outputs": [
    {
     "name": "stdout",
     "output_type": "stream",
     "text": [
      "train set dimension: (744, 9)\n",
      "dev set dimension: (319, 9)\n",
      "train set label: (744,)\n",
      "dev set label: (319,)\n"
     ]
    }
   ],
   "source": [
    "train_set, dev_set, train_set_label, dev_set_label = train_test_split(temp_set, new_df.sold_price, test_size=0.3, random_state=0)\n",
    "print(\"train set dimension: \" + str(train_set.shape))\n",
    "print(\"dev set dimension: \" + str(dev_set.shape))\n",
    "print(\"train set label: \" + str(train_set_label.shape))\n",
    "print(\"dev set label: \" + str(dev_set_label.shape))"
   ]
  },
  {
   "cell_type": "markdown",
   "metadata": {},
   "source": [
    "**Cost Function**"
   ]
  },
  {
   "cell_type": "code",
   "execution_count": 14,
   "metadata": {},
   "outputs": [],
   "source": [
    "scorer = make_scorer(mean_squared_error, greater_is_better = False)\n",
    "\n",
    "def rmse_cv_train(model):\n",
    "    rmse= np.sqrt(-cross_val_score(model, train_set, train_set_label, scoring = scorer, cv = 10))\n",
    "    return(rmse)\n",
    "\n",
    "def rmse_cv_dev(model):\n",
    "    rmse= np.sqrt(-cross_val_score(model, dev_set, dev_set_label, scoring = scorer, cv = 10))\n",
    "    return(rmse)"
   ]
  },
  {
   "cell_type": "code",
   "execution_count": 17,
   "metadata": {},
   "outputs": [],
   "source": [
    "from sklearn.metrics import r2_score\n",
    "\n",
    "scorer2 = make_scorer(r2_score, greater_is_better = False)\n",
    "\n",
    "def r2_cv_train(model):\n",
    "    r2= -cross_val_score(model, train_set, train_set_label, scoring = scorer2, cv = 10)\n",
    "    return(r2)\n",
    "\n",
    "def r2_cv_dev(model):\n",
    "    r2= -cross_val_score(model, dev_set, dev_set_label, scoring = scorer2, cv = 10)\n",
    "    return(r2)"
   ]
  },
  {
   "cell_type": "markdown",
   "metadata": {},
   "source": [
    "**Linear Regression**"
   ]
  },
  {
   "cell_type": "code",
   "execution_count": 18,
   "metadata": {},
   "outputs": [
    {
     "name": "stdout",
     "output_type": "stream",
     "text": [
      "RMSE at Training Set: 0.176\n",
      "RMSE at Dev Set: 0.170\n",
      "R2 at Training Set: 0.755\n",
      "R2 at Dev Set: 0.723\n"
     ]
    }
   ],
   "source": [
    "lr = LinearRegression()\n",
    "lr.fit(train_set, train_set_label)\n",
    "\n",
    "print('RMSE at Training Set: %.3f' % rmse_cv_train(lr).mean())\n",
    "print('RMSE at Dev Set: %.3f' % rmse_cv_dev(lr).mean())\n",
    "print('R2 at Training Set: %.3f' % r2_cv_train(lr).mean())\n",
    "print('R2 at Dev Set: %.3f' % r2_cv_dev(lr).mean())"
   ]
  },
  {
   "cell_type": "markdown",
   "metadata": {},
   "source": [
    "**Plot Predictions**"
   ]
  },
  {
   "cell_type": "code",
   "execution_count": 19,
   "metadata": {},
   "outputs": [],
   "source": [
    "train_set_pred = lr.predict(train_set)\n",
    "dev_set_pred = lr.predict(dev_set)"
   ]
  },
  {
   "cell_type": "code",
   "execution_count": 20,
   "metadata": {},
   "outputs": [
    {
     "data": {
      "image/png": "[encoded data removed]",
      "text/plain": [
       "<Figure size 504x360 with 1 Axes>"
      ]
     },
     "metadata": {},
     "output_type": "display_data"
    }
   ],
   "source": [
    "plt.figure(1, figsize=(7, 5))\n",
    "plt.scatter(train_set_pred, train_set_label, c = \"blue\", marker = \"s\", label = \"training_set\")\n",
    "plt.scatter(dev_set_pred, dev_set_label, c = \"lightblue\", marker = \"s\", label = \"dev_set\")\n",
    "plt.title(\"Linear Regression\")\n",
    "plt.xlabel(\"Predicted Values\")\n",
    "plt.ylabel(\"Real Values\")\n",
    "plt.legend(loc = \"upper left\")\n",
    "plt.plot([11.95, 14.25], [11.95, 14.25], c = \"red\")\n",
    "plt.show()"
   ]
  },
  {
   "cell_type": "markdown",
   "metadata": {},
   "source": [
    "**XGBoost**"
   ]
  },
  {
   "cell_type": "code",
   "execution_count": 21,
   "metadata": {},
   "outputs": [],
   "source": [
    "from xgboost import XGBRegressor"
   ]
  },
  {
   "cell_type": "code",
   "execution_count": 22,
   "metadata": {},
   "outputs": [],
   "source": [
    "xgb = XGBRegressor()"
   ]
  },
  {
   "cell_type": "code",
   "execution_count": 23,
   "metadata": {},
   "outputs": [
    {
     "data": {
      "text/plain": [
       "XGBRegressor(base_score=0.5, booster='gbtree', colsample_bylevel=1,\n",
       "       colsample_bytree=1, gamma=0, learning_rate=0.1, max_delta_step=0,\n",
       "       max_depth=3, min_child_weight=1, missing=None, n_estimators=100,\n",
       "       n_jobs=1, nthread=None, objective='reg:linear', random_state=0,\n",
       "       reg_alpha=0, reg_lambda=1, scale_pos_weight=1, seed=None,\n",
       "       silent=True, subsample=1)"
      ]
     },
     "execution_count": 23,
     "metadata": {},
     "output_type": "execute_result"
    }
   ],
   "source": [
    "xgb.fit(train_set, train_set_label, verbose=True)"
   ]
  },
  {
   "cell_type": "code",
   "execution_count": 24,
   "metadata": {},
   "outputs": [
    {
     "name": "stdout",
     "output_type": "stream",
     "text": [
      "RMSE at Training Set: 0.159\n",
      "RMSE at Dev Set: 0.171\n",
      "R2 at Training Set: 0.800\n",
      "R2 at Dev Set: 0.720\n"
     ]
    }
   ],
   "source": [
    "print('RMSE at Training Set: %.3f' % rmse_cv_train(xgb).mean())\n",
    "print('RMSE at Dev Set: %.3f' % rmse_cv_dev(xgb).mean())\n",
    "print('R2 at Training Set: %.3f' % r2_cv_train(xgb).mean())\n",
    "print('R2 at Dev Set: %.3f' % r2_cv_dev(xgb).mean())"
   ]
  },
  {
   "cell_type": "markdown",
   "metadata": {},
   "source": [
    "**Plot Predictions**"
   ]
  },
  {
   "cell_type": "code",
   "execution_count": 40,
   "metadata": {},
   "outputs": [],
   "source": [
    "train_set_pred = xgb.predict(train_set)\n",
    "dev_set_pred = xgb.predict(dev_set)"
   ]
  },
  {
   "cell_type": "code",
   "execution_count": 42,
   "metadata": {},
   "outputs": [
    {
     "data": {
      "image/png": "[encoded data removed]",
      "text/plain": [
       "<Figure size 396x360 with 1 Axes>"
      ]
     },
     "metadata": {},
     "output_type": "display_data"
    }
   ],
   "source": [
    "plt.figure(1, figsize=(5.5, 5))\n",
    "plt.scatter(train_set_pred, train_set_label, c = \"blue\", marker = \"s\", label = \"training_set\")\n",
    "plt.scatter(dev_set_pred, dev_set_label, c = \"lightblue\", marker = \"s\", label = \"dev_set\")\n",
    "plt.title(\"XGBoost\")\n",
    "plt.xlabel(\"Predicted Values\")\n",
    "plt.ylabel(\"Real Values\")\n",
    "plt.legend(loc = \"upper left\")\n",
    "plt.plot([11.95, 14.25], [11.95, 14.25], c = \"red\")\n",
    "plt.show()"
   ]
  }
 ],
 "metadata": {
  "kernelspec": {
   "display_name": "Python 3",
   "language": "python",
   "name": "python3"
  },
  "language_info": {
   "codemirror_mode": {
    "name": "ipython",
    "version": 3
   },
   "file_extension": ".py",
   "mimetype": "text/x-python",
   "name": "python",
   "nbconvert_exporter": "python",
   "pygments_lexer": "ipython3",
   "version": "3.6.5"
  }
 },
 "nbformat": 4,
 "nbformat_minor": 2
}
