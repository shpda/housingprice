{
 "cells": [
  {
   "cell_type": "markdown",
   "metadata": {},
   "source": [
    "**Collect Portland Housing Price Data**"
   ]
  },
  {
   "cell_type": "code",
   "execution_count": 1,
   "metadata": {},
   "outputs": [],
   "source": [
    "import pandas as pd\n",
    "import seaborn as sns\n",
    "import matplotlib.pyplot as plt\n",
    "import numpy as np"
   ]
  },
  {
   "cell_type": "markdown",
   "metadata": {},
   "source": [
    "**Read Data**"
   ]
  },
  {
   "cell_type": "code",
   "execution_count": 2,
   "metadata": {},
   "outputs": [],
   "source": [
    "totalFiles = 0"
   ]
  },
  {
   "cell_type": "code",
   "execution_count": 3,
   "metadata": {},
   "outputs": [
    {
     "name": "stdout",
     "output_type": "stream",
     "text": [
      "500\n",
      "1000\n",
      "1500\n",
      "2000\n",
      "2584\n"
     ]
    }
   ],
   "source": [
    "linkFile = pd.read_csv('../data/portland/link1.csv')\n",
    "totalFiles += len(linkFile['title_link'])\n",
    "with open('total.csv', 'a') as f:\n",
    "    linkFile.to_csv(f, header=True, index=False)\n",
    "print(totalFiles)\n",
    "linkFile = pd.read_csv('../data/portland/link2.csv')\n",
    "totalFiles += len(linkFile['title_link'])\n",
    "with open('total.csv', 'a') as f:\n",
    "    linkFile.to_csv(f, header=False, index=False)\n",
    "print(totalFiles)\n",
    "linkFile = pd.read_csv('../data/portland/link3.csv')\n",
    "totalFiles += len(linkFile['title_link'])\n",
    "with open('total.csv', 'a') as f:\n",
    "    linkFile.to_csv(f, header=False, index=False)\n",
    "print(totalFiles)\n",
    "linkFile = pd.read_csv('../data/portland/link4.csv')\n",
    "totalFiles += len(linkFile['title_link'])\n",
    "with open('total.csv', 'a') as f:\n",
    "    linkFile.to_csv(f, header=False, index=False)\n",
    "print(totalFiles)\n",
    "linkFile = pd.read_csv('../data/portland/link5.csv')\n",
    "totalFiles += len(linkFile['title_link'])\n",
    "with open('total.csv', 'a') as f:\n",
    "    linkFile.to_csv(f, header=False, index=False)\n",
    "print(totalFiles)"
   ]
  },
  {
   "cell_type": "code",
   "execution_count": 19,
   "metadata": {},
   "outputs": [
    {
     "name": "stdout",
     "output_type": "stream",
     "text": [
      "265\n",
      "530\n",
      "795\n",
      "990\n",
      "1156\n",
      "1421\n",
      "1686\n",
      "1928\n",
      "2193\n",
      "2319\n",
      "2584\n"
     ]
    }
   ],
   "source": [
    "linkFile = pd.read_csv('../data/portland/topLevelLinks/97202.csv')\n",
    "totalFiles += len(linkFile['title_link'])\n",
    "with open('links.txt', 'a') as f:\n",
    "    linkFile['title_link'].to_csv(f, header=False, index=False)\n",
    "print(totalFiles)\n",
    "linkFile = pd.read_csv('../data/portland/topLevelLinks/97206.csv')\n",
    "totalFiles += len(linkFile['title_link'])\n",
    "with open('links.txt', 'a') as f:\n",
    "    linkFile['title_link'].to_csv(f, header=False, index=False)\n",
    "print(totalFiles)\n",
    "linkFile = pd.read_csv('../data/portland/topLevelLinks/97213.csv')\n",
    "totalFiles += len(linkFile['title_link'])\n",
    "with open('links.txt', 'a') as f:\n",
    "    linkFile['title_link'].to_csv(f, header=False, index=False)\n",
    "print(totalFiles)\n",
    "linkFile = pd.read_csv('../data/portland/topLevelLinks/97215.csv')\n",
    "totalFiles += len(linkFile['title_link'])\n",
    "with open('links.txt', 'a') as f:\n",
    "    linkFile['title_link'].to_csv(f, header=False, index=False)\n",
    "print(totalFiles)\n",
    "linkFile = pd.read_csv('../data/portland/topLevelLinks/97216.csv')\n",
    "totalFiles += len(linkFile['title_link'])\n",
    "with open('links.txt', 'a') as f:\n",
    "    linkFile['title_link'].to_csv(f, header=False, index=False)\n",
    "print(totalFiles)\n",
    "linkFile = pd.read_csv('../data/portland/topLevelLinks/97220.csv')\n",
    "totalFiles += len(linkFile['title_link'])\n",
    "with open('links.txt', 'a') as f:\n",
    "    linkFile['title_link'].to_csv(f, header=False, index=False)\n",
    "print(totalFiles)\n",
    "linkFile = pd.read_csv('../data/portland/topLevelLinks/97230.csv')\n",
    "totalFiles += len(linkFile['title_link'])\n",
    "with open('links.txt', 'a') as f:\n",
    "    linkFile['title_link'].to_csv(f, header=False, index=False)\n",
    "print(totalFiles)\n",
    "linkFile = pd.read_csv('../data/portland/topLevelLinks/97233.csv')\n",
    "totalFiles += len(linkFile['title_link'])\n",
    "with open('links.txt', 'a') as f:\n",
    "    linkFile['title_link'].to_csv(f, header=False, index=False)\n",
    "print(totalFiles)\n",
    "linkFile = pd.read_csv('../data/portland/topLevelLinks/97236.csv')\n",
    "totalFiles += len(linkFile['title_link'])\n",
    "with open('links.txt', 'a') as f:\n",
    "    linkFile['title_link'].to_csv(f, header=False, index=False)\n",
    "print(totalFiles)\n",
    "linkFile = pd.read_csv('../data/portland/topLevelLinks/97239.csv')\n",
    "totalFiles += len(linkFile['title_link'])\n",
    "with open('links.txt', 'a') as f:\n",
    "    linkFile['title_link'].to_csv(f, header=False, index=False)\n",
    "print(totalFiles)\n",
    "linkFile = pd.read_csv('../data/portland/topLevelLinks/97266.csv')\n",
    "totalFiles += len(linkFile['title_link'])\n",
    "with open('links.txt', 'a') as f:\n",
    "    linkFile['title_link'].to_csv(f, header=False, index=False)\n",
    "print(totalFiles)"
   ]
  },
  {
   "cell_type": "code",
   "execution_count": 13,
   "metadata": {},
   "outputs": [
    {
     "name": "stdout",
     "output_type": "stream",
     "text": [
      "265\n"
     ]
    }
   ],
   "source": [
    "print(len(linkFile['title_link']))"
   ]
  },
  {
   "cell_type": "code",
   "execution_count": 9,
   "metadata": {},
   "outputs": [
    {
     "data": {
      "text/plain": [
       "Index(['title', 'title_link', 'HomeSash', 'addressDisplay', 'cityStateZip',\n",
       "       'homecardPrice', 'value_a', 'value_a_a', 'value_a_a_a'],\n",
       "      dtype='object')"
      ]
     },
     "execution_count": 9,
     "metadata": {},
     "output_type": "execute_result"
    }
   ],
   "source": [
    "linkFile1.columns"
   ]
  },
  {
   "cell_type": "code",
   "execution_count": 7,
   "metadata": {},
   "outputs": [
    {
     "name": "stdout",
     "output_type": "stream",
     "text": [
      "0      https://www.redfin.com/OR/Portland/2013-SE-Ree...\n",
      "1      https://www.redfin.com/OR/Portland/3545-SE-Lon...\n",
      "2      https://www.redfin.com/OR/Portland/8615-SE-11t...\n",
      "3      https://www.redfin.com/OR/Portland/7552-SE-29t...\n",
      "4      https://www.redfin.com/OR/Portland/6124-SE-17t...\n",
      "5      https://www.redfin.com/OR/Portland/3704-SE-26t...\n",
      "6      https://www.redfin.com/OR/Portland/2801-SE-22n...\n",
      "7      https://www.redfin.com/OR/Portland/2801-SE-Tac...\n",
      "8      https://www.redfin.com/OR/Portland/6030-SE-20t...\n",
      "9      https://www.redfin.com/OR/Portland/3530-SE-Cli...\n",
      "10     https://www.redfin.com/OR/Portland/3925-SE-Har...\n",
      "11     https://www.redfin.com/OR/Portland/3637-SE-28t...\n",
      "12     https://www.redfin.com/OR/Portland/1016-SE-Uma...\n",
      "13     https://www.redfin.com/OR/Portland/7701-SE-30t...\n",
      "14     https://www.redfin.com/OR/Portland/1116-SE-Har...\n",
      "15     https://www.redfin.com/OR/Portland/735-SE-Neha...\n",
      "16     https://www.redfin.com/OR/Portland/2867-SE-Bro...\n",
      "17     https://www.redfin.com/OR/Portland/3324-SE-24t...\n",
      "18     https://www.redfin.com/OR/Portland/6834-SE-28t...\n",
      "19     https://www.redfin.com/OR/Portland/3655-SE-Sch...\n",
      "20     https://www.redfin.com/OR/Portland/2821-SE-Fra...\n",
      "21     https://www.redfin.com/OR/Portland/8412-SE-16t...\n",
      "22     https://www.redfin.com/OR/Portland/4444-SE-29t...\n",
      "23     https://www.redfin.com/OR/Portland/1424-SE-Lam...\n",
      "24     https://www.redfin.com/OR/Portland/3915-SE-Lam...\n",
      "25     https://www.redfin.com/OR/Portland/3947-SE-36t...\n",
      "26     https://www.redfin.com/OR/Portland/1235-SE-Mal...\n",
      "27     https://www.redfin.com/OR/Portland/2724-SE-Kel...\n",
      "28     https://www.redfin.com/OR/Portland/2524-SE-38t...\n",
      "29     https://www.redfin.com/OR/Portland/3728-SE-26t...\n",
      "                             ...                        \n",
      "235    https://www.redfin.com/OR/Portland/1743-SE-Ten...\n",
      "236    https://www.redfin.com/OR/Portland/8414-SE-13t...\n",
      "237    https://www.redfin.com/OR/Portland/2032-SE-Cla...\n",
      "238    https://www.redfin.com/OR/Portland/2805-SE-Fra...\n",
      "239    https://www.redfin.com/OR/Portland/2226-SE-Tac...\n",
      "240    https://www.redfin.com/OR/Portland/1235-SE-Cli...\n",
      "241    https://www.redfin.com/OR/Portland/6314-SE-18t...\n",
      "242    https://www.redfin.com/OR/Portland/2406-SE-Ivo...\n",
      "243    https://www.redfin.com/OR/Portland/2824-SE-18t...\n",
      "244    https://www.redfin.com/OR/Portland/3229-SE-Fra...\n",
      "245    https://www.redfin.com/OR/Portland/3908-SE-Byb...\n",
      "246    https://www.redfin.com/OR/Portland/715-SE-Harn...\n",
      "247    https://www.redfin.com/OR/Portland/3514-SE-7th...\n",
      "248    https://www.redfin.com/OR/Portland/3579-SE-Hol...\n",
      "249    https://www.redfin.com/OR/Portland/8526-SE-19t...\n",
      "250    https://www.redfin.com/OR/Portland/3968-SE-Gla...\n",
      "251    https://www.redfin.com/OR/Portland/2305-SE-Tac...\n",
      "252    https://www.redfin.com/OR/Portland/1218-SE-Mal...\n",
      "253    https://www.redfin.com/OR/Portland/1224-SE-Sel...\n",
      "254    https://www.redfin.com/OR/Portland/8538-SE-19t...\n",
      "255    https://www.redfin.com/OR/Portland/1814-SE-Cla...\n",
      "256    https://www.redfin.com/OR/Portland/1217-SE-Spo...\n",
      "257    https://www.redfin.com/OR/Portland/1616-SE-Ten...\n",
      "258    https://www.redfin.com/OR/Portland/4208-SE-34t...\n",
      "259    https://www.redfin.com/OR/Portland/2603-SE-17t...\n",
      "260    https://www.redfin.com/OR/Portland/4005-SE-Ram...\n",
      "261    https://www.redfin.com/OR/Portland/1720-SE-Fra...\n",
      "262    https://www.redfin.com/OR/Portland/Undisclosed...\n",
      "263    https://www.redfin.com/OR/Portland/8020-SE-Ces...\n",
      "264    https://www.redfin.com/OR/Portland/Unknown-972...\n",
      "Name: title_link, Length: 265, dtype: object\n"
     ]
    }
   ],
   "source": [
    "print(linkFile1['title_link'])"
   ]
  }
 ],
 "metadata": {
  "kernelspec": {
   "display_name": "Python 3",
   "language": "python",
   "name": "python3"
  },
  "language_info": {
   "codemirror_mode": {
    "name": "ipython",
    "version": 3
   },
   "file_extension": ".py",
   "mimetype": "text/x-python",
   "name": "python",
   "nbconvert_exporter": "python",
   "pygments_lexer": "ipython3",
   "version": "3.6.5"
  }
 },
 "nbformat": 4,
 "nbformat_minor": 2
}
